{
 "cells": [
  {
   "cell_type": "code",
   "execution_count": 3,
   "metadata": {},
   "outputs": [],
   "source": [
    "import matplotlib.pyplot as plt\n",
    "import pickle\n",
    "import numpy as np\n",
    "import math\n",
    "from scipy import linalg"
   ]
  },
  {
   "cell_type": "code",
   "execution_count": 4,
   "metadata": {},
   "outputs": [],
   "source": [
    "myfile = open('hw4_p3_data.pickle', 'rb')\n",
    "\n",
    "mydict = pickle.load(myfile)\n",
    "\n",
    "X_train = mydict['X_train']\n",
    "X_test = mydict['X_test']\n",
    "Y_train = mydict['Y_train']\n",
    "Y_test = mydict['Y_test']"
   ]
  },
  {
   "cell_type": "code",
   "execution_count": 9,
   "metadata": {},
   "outputs": [
    {
     "data": {
      "text/plain": [
       "array([[0.005     ],\n",
       "       [0.02510101],\n",
       "       [0.08540404],\n",
       "       [0.10550505],\n",
       "       [0.11555556],\n",
       "       [0.14570707],\n",
       "       [0.16580808],\n",
       "       [0.27636364],\n",
       "       [0.36681818],\n",
       "       [0.37686869],\n",
       "       [0.38691919],\n",
       "       [0.3969697 ],\n",
       "       [0.44722222],\n",
       "       [0.52762626],\n",
       "       [0.55777778],\n",
       "       [0.58792929],\n",
       "       [0.61808081],\n",
       "       [0.62813131],\n",
       "       [0.66833333],\n",
       "       [0.72863636],\n",
       "       [0.78893939],\n",
       "       [0.88944444],\n",
       "       [0.89949495],\n",
       "       [0.90954545],\n",
       "       [1.        ]])"
      ]
     },
     "execution_count": 9,
     "metadata": {},
     "output_type": "execute_result"
    }
   ],
   "source": [
    "X_train"
   ]
  },
  {
   "cell_type": "code",
   "execution_count": 10,
   "metadata": {},
   "outputs": [
    {
     "data": {
      "text/plain": [
       "array([ 0.40969247,  0.22479175, -0.07831982,  0.00963623,  0.43196175,\n",
       "        0.78593838,  1.1903611 ,  0.63312412,  1.38135487,  1.08861587,\n",
       "        0.97380584,  0.74204994,  0.50745895,  0.58354275,  0.62507101,\n",
       "        0.58749319,  0.29791675,  0.21451077, -0.34515021,  0.33024282,\n",
       "        1.44549017,  0.0052187 , -0.08581936, -0.40921487, -0.11454036])"
      ]
     },
     "execution_count": 10,
     "metadata": {},
     "output_type": "execute_result"
    }
   ],
   "source": [
    "Y_train"
   ]
  },
  {
   "cell_type": "code",
   "execution_count": 11,
   "metadata": {},
   "outputs": [
    {
     "data": {
      "text/plain": [
       "array([[0.01505051],\n",
       "       [0.03515152],\n",
       "       [0.04520202],\n",
       "       [0.05525253],\n",
       "       [0.06530303],\n",
       "       [0.07535354],\n",
       "       [0.09545455],\n",
       "       [0.12560606],\n",
       "       [0.13565657],\n",
       "       [0.15575758],\n",
       "       [0.17585859],\n",
       "       [0.18590909],\n",
       "       [0.1959596 ],\n",
       "       [0.2060101 ],\n",
       "       [0.21606061],\n",
       "       [0.22611111],\n",
       "       [0.23616162],\n",
       "       [0.24621212],\n",
       "       [0.25626263],\n",
       "       [0.26631313],\n",
       "       [0.28641414],\n",
       "       [0.29646465],\n",
       "       [0.30651515],\n",
       "       [0.31656566],\n",
       "       [0.32661616],\n",
       "       [0.33666667],\n",
       "       [0.34671717],\n",
       "       [0.35676768],\n",
       "       [0.4070202 ],\n",
       "       [0.41707071],\n",
       "       [0.42712121],\n",
       "       [0.43717172],\n",
       "       [0.45727273],\n",
       "       [0.46732323],\n",
       "       [0.47737374],\n",
       "       [0.48742424],\n",
       "       [0.49747475],\n",
       "       [0.50752525],\n",
       "       [0.51757576],\n",
       "       [0.53767677],\n",
       "       [0.54772727],\n",
       "       [0.56782828],\n",
       "       [0.57787879],\n",
       "       [0.5979798 ],\n",
       "       [0.6080303 ],\n",
       "       [0.63818182],\n",
       "       [0.64823232],\n",
       "       [0.65828283],\n",
       "       [0.67838384],\n",
       "       [0.68843434],\n",
       "       [0.69848485],\n",
       "       [0.70853535],\n",
       "       [0.71858586],\n",
       "       [0.73868687],\n",
       "       [0.74873737],\n",
       "       [0.75878788],\n",
       "       [0.76883838],\n",
       "       [0.77888889],\n",
       "       [0.7989899 ],\n",
       "       [0.8090404 ],\n",
       "       [0.81909091],\n",
       "       [0.82914141],\n",
       "       [0.83919192],\n",
       "       [0.84924242],\n",
       "       [0.85929293],\n",
       "       [0.86934343],\n",
       "       [0.87939394],\n",
       "       [0.91959596],\n",
       "       [0.92964646],\n",
       "       [0.93969697],\n",
       "       [0.94974747],\n",
       "       [0.95979798],\n",
       "       [0.96984848],\n",
       "       [0.97989899],\n",
       "       [0.98994949]])"
      ]
     },
     "execution_count": 11,
     "metadata": {},
     "output_type": "execute_result"
    }
   ],
   "source": [
    "X_test"
   ]
  },
  {
   "cell_type": "code",
   "execution_count": 12,
   "metadata": {},
   "outputs": [
    {
     "data": {
      "text/plain": [
       "array([ 0.31600642,  0.03573553,  0.09538746, -0.11392808, -0.1952592 ,\n",
       "       -0.20453881, -0.06093157,  0.5858773 ,  0.63914958,  1.01803497,\n",
       "        1.16912582,  1.22328679,  1.17719971,  1.13397719,  1.1807491 ,\n",
       "        0.98118699,  1.01941206,  0.71165896,  0.67774997,  0.72651012,\n",
       "        0.66198503,  0.82631511,  0.78745126,  0.98068296,  1.16895732,\n",
       "        1.27339785,  1.29777235,  1.25111172,  0.36373706,  0.34658161,\n",
       "        0.3509405 ,  0.28713496,  0.50167962,  0.6196117 ,  0.55398114,\n",
       "        0.84061138,  0.80903283,  0.73448962,  0.74697304,  0.56845778,\n",
       "        0.68313303,  0.6732338 ,  0.41853457,  0.52867733,  0.40551191,\n",
       "        0.00304003, -0.24148773, -0.21644938, -0.36626373, -0.17210713,\n",
       "       -0.22044258,  0.09856776,  0.15835673,  0.60374917,  0.96587346,\n",
       "        1.21595001,  1.24471151,  1.48527997,  1.41682536,  1.50951556,\n",
       "        1.2421459 ,  1.1189342 ,  0.93190292,  0.69910637,  0.43290291,\n",
       "        0.20351807,  0.06849868, -0.29311326, -0.48798135, -0.34587454,\n",
       "       -0.37937123, -0.37144336, -0.35077411, -0.1500983 , -0.24426923])"
      ]
     },
     "execution_count": 12,
     "metadata": {},
     "output_type": "execute_result"
    }
   ],
   "source": [
    "Y_test"
   ]
  },
  {
   "cell_type": "code",
   "execution_count": 5,
   "metadata": {},
   "outputs": [
    {
     "name": "stdout",
     "output_type": "stream",
     "text": [
      "(25, 1)\n",
      "(75, 1)\n",
      "(25,)\n",
      "(75,)\n"
     ]
    }
   ],
   "source": [
    "print(X_train.shape)\n",
    "print(X_test.shape)\n",
    "print(Y_train.shape)\n",
    "print(Y_test.shape)\n",
    "\n",
    "predictive_mean = np.empty(X_test.shape[0])\n",
    "predictive_std = np.empty(X_test.shape[0])\n"
   ]
  },
  {
   "cell_type": "code",
   "execution_count": 6,
   "metadata": {},
   "outputs": [],
   "source": [
    "sigma = 0.1\n",
    "sigma_f = 1.0\n",
    "ls = 0.06"
   ]
  },
  {
   "cell_type": "code",
   "execution_count": 16,
   "metadata": {},
   "outputs": [
    {
     "name": "stdout",
     "output_type": "stream",
     "text": [
      "75\n"
     ]
    }
   ],
   "source": [
    "print(len(Y_test))"
   ]
  },
  {
   "cell_type": "code",
   "execution_count": 20,
   "metadata": {},
   "outputs": [
    {
     "ename": "IndexError",
     "evalue": "index 1 is out of bounds for axis 0 with size 1",
     "output_type": "error",
     "traceback": [
      "\u001b[1;31m---------------------------------------------------------------------------\u001b[0m",
      "\u001b[1;31mIndexError\u001b[0m                                Traceback (most recent call last)",
      "\u001b[1;32m<ipython-input-20-b6dcb1635087>\u001b[0m in \u001b[0;36m<module>\u001b[1;34m\u001b[0m\n\u001b[0;32m     17\u001b[0m \u001b[1;32mfor\u001b[0m \u001b[0mi\u001b[0m \u001b[1;32min\u001b[0m \u001b[0mrange\u001b[0m\u001b[1;33m(\u001b[0m\u001b[1;36m0\u001b[0m\u001b[1;33m,\u001b[0m\u001b[0mlen\u001b[0m\u001b[1;33m(\u001b[0m\u001b[0mY_train\u001b[0m\u001b[1;33m)\u001b[0m\u001b[1;33m)\u001b[0m\u001b[1;33m:\u001b[0m\u001b[1;33m\u001b[0m\u001b[1;33m\u001b[0m\u001b[0m\n\u001b[0;32m     18\u001b[0m     \u001b[1;32mfor\u001b[0m \u001b[0mj\u001b[0m \u001b[1;32min\u001b[0m \u001b[0mrange\u001b[0m\u001b[1;33m(\u001b[0m\u001b[1;36m0\u001b[0m\u001b[1;33m,\u001b[0m\u001b[0mlen\u001b[0m\u001b[1;33m(\u001b[0m\u001b[0mY_train\u001b[0m\u001b[1;33m)\u001b[0m\u001b[1;33m)\u001b[0m\u001b[1;33m:\u001b[0m\u001b[1;33m\u001b[0m\u001b[1;33m\u001b[0m\u001b[0m\n\u001b[1;32m---> 19\u001b[1;33m         \u001b[0mkx1nx1n\u001b[0m\u001b[1;33m[\u001b[0m\u001b[0mi\u001b[0m\u001b[1;33m]\u001b[0m\u001b[1;33m[\u001b[0m\u001b[0mj\u001b[0m\u001b[1;33m]\u001b[0m\u001b[1;33m=\u001b[0m \u001b[1;36m0\u001b[0m \u001b[1;31m#sigma(X_train[i],X_train[j])\u001b[0m\u001b[1;33m\u001b[0m\u001b[1;33m\u001b[0m\u001b[0m\n\u001b[0m\u001b[0;32m     20\u001b[0m \u001b[1;33m\u001b[0m\u001b[0m\n\u001b[0;32m     21\u001b[0m \u001b[1;33m\u001b[0m\u001b[0m\n",
      "\u001b[1;31mIndexError\u001b[0m: index 1 is out of bounds for axis 0 with size 1"
     ]
    }
   ],
   "source": [
    "#-------- Your code (~10 lines) ---------\n",
    "def sigmaij(xi, xj):\n",
    "    if xi==xj:\n",
    "        delta=1\n",
    "    else:\n",
    "        delta=0\n",
    "    answer=sigma_f*sigma_f*math.exp((xi-xj)*(xi-xj)/(2*ls*ls))+sigma*sigma*delta\n",
    "    return answer\n",
    "def xkx1n (xk):\n",
    "    answer=np.empty(len(Y_train))\n",
    "    for i in X_train:\n",
    "        answer[i]=sigmaij(xk,i)\n",
    "    return answer\n",
    "\n",
    "kx1nx1n=np.empty(len(Y_train))\n",
    "kx1nx1n=kx1nx1n[np.newaxis,:]\n",
    "for i in range(0,len(Y_train)):\n",
    "    for j in range(0,len(Y_train)):\n",
    "        kx1nx1n[i][j]= 0 #sigma(X_train[i],X_train[j])\n",
    "\n",
    "\n",
    "I=np.identity(len(Y_train))\n",
    "\n",
    "y1n=np.shape(Y_train,1)\n",
    "for i in range(0,len(Y_train)):\n",
    "    y1n[i][1]=Y_train[i]\n",
    "    \n",
    "\n",
    "\n",
    "for i in predictive_mean:\n",
    "    print(i)\n",
    "\n",
    "\n",
    "    \n",
    "#---------- End of your code -----------\n"
   ]
  },
  {
   "cell_type": "code",
   "execution_count": null,
   "metadata": {},
   "outputs": [],
   "source": [
    "\n",
    "# Optional: Visualize the training data, testing data, and predictive distributions\n",
    "fig = plt.figure()\n",
    "plt.plot(X_train, Y_train, linestyle='', color='b', markersize=3, marker='+',label=\"Training data\")\n",
    "plt.plot(X_test, Y_test, linestyle='', color='orange', markersize=2, marker='^',label=\"Testing data\")\n",
    "plt.plot(X_test, predictive_mean, linestyle=':', color='green')\n",
    "plt.fill_between(X_test.flatten(), predictive_mean - predictive_std, predictive_mean + predictive_std, color='green', alpha=0.13)\n",
    "plt.fill_between(X_test.flatten(), predictive_mean - 2*predictive_std, predictive_mean + 2*predictive_std, color='green', alpha=0.07)\n",
    "plt.fill_between(X_test.flatten(), predictive_mean - 3*predictive_std, predictive_mean + 3*predictive_std, color='green', alpha=0.04)\n",
    "plt.xlabel(\"X\")\n",
    "plt.ylabel(\"Y\")"
   ]
  }
 ],
 "metadata": {
  "kernelspec": {
   "display_name": "Python 3",
   "language": "python",
   "name": "python3"
  },
  "language_info": {
   "codemirror_mode": {
    "name": "ipython",
    "version": 3
   },
   "file_extension": ".py",
   "mimetype": "text/x-python",
   "name": "python",
   "nbconvert_exporter": "python",
   "pygments_lexer": "ipython3",
   "version": "3.6.12"
  }
 },
 "nbformat": 4,
 "nbformat_minor": 4
}
