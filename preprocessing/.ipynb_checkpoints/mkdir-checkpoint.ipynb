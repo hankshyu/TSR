{
 "cells": [
  {
   "cell_type": "code",
   "execution_count": 5,
   "metadata": {},
   "outputs": [
    {
     "name": "stdout",
     "output_type": "stream",
     "text": [
      "..\\\\database\\\\name\n"
     ]
    }
   ],
   "source": [
    "#generate empty folders\n",
    "import os\n",
    "directoryname=\"name\"\n",
    "path=r\"..\\\\database\\\\\"+directoryname\n",
    "print(path)\n",
    "\n",
    "try:  \n",
    "    os.mkdir(path) \n",
    "    os.mkdir(path+\"\\\\train\")\n",
    "    os.mkdir(path+\"\\\\test\")\n",
    "except OSError as error:  \n",
    "    print(error)\n",
    "for i in range(0,57+1):\n",
    "    os.makedirs(path+r\"\\\\test\\\\%s\"%str(i))\n",
    "    os.makedirs(path+r\"\\\\train\\\\%s\"%str(i))\n",
    "\n",
    "    "
   ]
  },
  {
   "cell_type": "code",
   "execution_count": null,
   "metadata": {},
   "outputs": [],
   "source": []
  }
 ],
 "metadata": {
  "kernelspec": {
   "display_name": "Python 3",
   "language": "python",
   "name": "python3"
  },
  "language_info": {
   "codemirror_mode": {
    "name": "ipython",
    "version": 3
   },
   "file_extension": ".py",
   "mimetype": "text/x-python",
   "name": "python",
   "nbconvert_exporter": "python",
   "pygments_lexer": "ipython3",
   "version": "3.6.12"
  }
 },
 "nbformat": 4,
 "nbformat_minor": 4
}
