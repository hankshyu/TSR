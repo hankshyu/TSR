{
 "cells": [
  {
   "cell_type": "code",
   "execution_count": null,
   "metadata": {},
   "outputs": [],
   "source": [
    "from tensorflow.keras.preprocessing.image import ImageDataGenerator\n",
    "from tensorflow.keras.preprocessing import image\n",
    "import tensorflow as tf\n",
    "from stn import spatial_transformer_network as transformer\n",
    "import tensorflow.keras.activations as ac\n",
    "import numpy as np\n",
    "import matplotlib.pyplot as plt\n",
    "import os\n",
    "os.environ['TF_CPP_MIN_LOG_LEVEL'] = '2'\n",
    "import cv2"
   ]
  },
  {
   "cell_type": "code",
   "execution_count": null,
   "metadata": {},
   "outputs": [],
   "source": [
    "train = ImageDataGenerator(rescale=1 / 255,validation_split=0.2)\n",
    "test = ImageDataGenerator(rescale=1 / 255)"
   ]
  },
  {
   "cell_type": "code",
   "execution_count": null,
   "metadata": {},
   "outputs": [],
   "source": [
    "image_size=(224,224)"
   ]
  },
  {
   "cell_type": "code",
   "execution_count": null,
   "metadata": {},
   "outputs": [],
   "source": [
    "train_dataset = train.flow_from_directory(\"../database/sharpness1/train\",\n",
    "                                          target_size=image_size,\n",
    "                                          class_mode=\"categorical\",\n",
    "                                          subset=\"training\",\n",
    "                                          \n",
    "                                         )\n",
    "valid_dataset = train.flow_from_directory(\"../database/sharpness1/train\",\n",
    "                                          target_size=image_size,\n",
    "                                          class_mode=\"categorical\",                                          \n",
    "                                          subset=\"validation\")\n",
    "\n",
    "test_dataset = test.flow_from_directory(\"../database/sharpness1/test\",\n",
    "                                        target_size=image_size,                                       \n",
    "                                        class_mode=\"categorical\")"
   ]
  },
  {
   "cell_type": "code",
   "execution_count": null,
   "metadata": {},
   "outputs": [],
   "source": [
    "model = tf.keras.models.Sequential(\n",
    "    [\n",
    "        tf.keras.Input(shape=(224, 224, 3)),\n",
    "        tf.keras.layers.Conv2D(64, kernel_size=(3, 3),padding=\"same\",activation=\"relu\"),\n",
    "        tf.keras.layers.Conv2D(64, kernel_size=(3, 3),padding=\"same\",activation=\"relu\"),\n",
    "        tf.keras.layers.MaxPooling2D(pool_size=(2 ,2)),\n",
    "        tf.keras.layers.Conv2D(128, kernel_size=(3, 3),padding=\"same\",activation=\"relu\"),\n",
    "        tf.keras.layers.Conv2D(128, kernel_size=(3, 3),padding=\"same\",activation=\"relu\"),\n",
    "        tf.keras.layers.MaxPooling2D(pool_size=(2 ,2)),\n",
    "        tf.keras.layers.Conv2D(256, kernel_size=(3, 3),padding=\"same\",activation=\"relu\"),\n",
    "        tf.keras.layers.Conv2D(256, kernel_size=(3, 3),padding=\"same\",activation=\"relu\"),\n",
    "        tf.keras.layers.Conv2D(256, kernel_size=(3, 3),padding=\"same\",activation=\"relu\"),\n",
    "        tf.keras.layers.MaxPooling2D(pool_size=(2 ,2)),\n",
    "        tf.keras.layers.Conv2D(512, kernel_size=(3, 3),padding=\"same\",activation=\"relu\"),\n",
    "        tf.keras.layers.Conv2D(512, kernel_size=(3, 3),padding=\"same\",activation=\"relu\"),\n",
    "        tf.keras.layers.Conv2D(512, kernel_size=(3, 3),padding=\"same\",activation=\"relu\"),\n",
    "        tf.keras.layers.MaxPooling2D(pool_size=(2 ,2)),\n",
    "        tf.keras.layers.Conv2D(512, kernel_size=(3, 3),padding=\"same\",activation=\"relu\"),\n",
    "        tf.keras.layers.Conv2D(512, kernel_size=(3, 3),padding=\"same\",activation=\"relu\"),\n",
    "        tf.keras.layers.Conv2D(512, kernel_size=(3, 3),padding=\"same\",activation=\"relu\"),\n",
    "        tf.keras.layers.MaxPooling2D(pool_size=(2 ,2)),\n",
    "        \n",
    "        tf.keras.layers.Flatten(),\n",
    "\n",
    "        \n",
    "        tf.keras.layers.Dense(1028,activation=\"relu\"),\n",
    "        tf.keras.layers.Dropout(0.5),\n",
    "      \n",
    "        tf.keras.layers.Dense(512,activation=\"relu\"),\n",
    "        tf.keras.layers.Dropout(0.5),\n",
    "      \n",
    "        tf.keras.layers.Dense(256,activation=\"relu\"),\n",
    "        tf.keras.layers.Dropout(0.5),\n",
    "     \n",
    "        tf.keras.layers.Dense(58, activation=\"softmax\")\n",
    "    ]\n",
    ")\n",
    "model.summary()"
   ]
  },
  {
   "cell_type": "code",
   "execution_count": null,
   "metadata": {},
   "outputs": [],
   "source": [
    "model.compile(loss=\"categorical_crossentropy\", optimizer=\"adam\", metrics=[\"accuracy\"])\n",
    "\n",
    "model.fit(train_dataset, steps_per_epoch=60,validation_data=valid_dataset, epochs=40)\n",
    "model.summary()\n",
    "score = model.evaluate(test_dataset, verbose=0)\n",
    "print(\"Test loss:\", score[0])\n",
    "print(\"Test accuracy:\", score[1])\n",
    "print(\"hello this is the end ***\")\n",
    "\n",
    "\n",
    "\n"
   ]
  },
  {
   "cell_type": "code",
   "execution_count": null,
   "metadata": {},
   "outputs": [],
   "source": []
  },
  {
   "cell_type": "code",
   "execution_count": null,
   "metadata": {},
   "outputs": [],
   "source": []
  }
 ],
 "metadata": {
  "kernelspec": {
   "display_name": "Python 3",
   "language": "python",
   "name": "python3"
  },
  "language_info": {
   "codemirror_mode": {
    "name": "ipython",
    "version": 3
   },
   "file_extension": ".py",
   "mimetype": "text/x-python",
   "name": "python",
   "nbconvert_exporter": "python",
   "pygments_lexer": "ipython3",
   "version": "3.6.12"
  }
 },
 "nbformat": 4,
 "nbformat_minor": 4
}
