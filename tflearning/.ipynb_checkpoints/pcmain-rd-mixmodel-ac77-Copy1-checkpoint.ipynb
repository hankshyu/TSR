{
 "cells": [
  {
   "cell_type": "code",
   "execution_count": 19,
   "metadata": {},
   "outputs": [],
   "source": [
    "# this is the testing area"
   ]
  },
  {
   "cell_type": "code",
   "execution_count": 20,
   "metadata": {},
   "outputs": [],
   "source": [
    "from tensorflow.keras.preprocessing.image import ImageDataGenerator\n",
    "from tensorflow.keras.preprocessing import image\n",
    "import tensorflow as tf\n",
    "from stn import spatial_transformer_network as transformer\n",
    "from tensorflow.keras.regularizers import l2\n",
    "import tensorflow.keras.activations as ac\n",
    "import numpy as np\n",
    "import matplotlib.pyplot as plt\n",
    "import os\n",
    "#os.environ['TF_CPP_MIN_LOG_LEVEL'] = '2'\n",
    "import cv2\n",
    "\n"
   ]
  },
  {
   "cell_type": "code",
   "execution_count": 21,
   "metadata": {},
   "outputs": [],
   "source": [
    "train = ImageDataGenerator(rescale=1 / 255,validation_split=0.2)\n",
    "test = ImageDataGenerator(rescale=1 / 255)"
   ]
  },
  {
   "cell_type": "code",
   "execution_count": 22,
   "metadata": {},
   "outputs": [],
   "source": [
    "image_size=(250,250)"
   ]
  },
  {
   "cell_type": "code",
   "execution_count": 23,
   "metadata": {},
   "outputs": [
    {
     "name": "stdout",
     "output_type": "stream",
     "text": [
      "Found 3282 images belonging to 49 classes.\n",
      "Found 795 images belonging to 49 classes.\n",
      "Found 1919 images belonging to 49 classes.\n"
     ]
    }
   ],
   "source": [
    "train_dataset = train.flow_from_directory(\"../database/sharpness1reduce/train\",\n",
    "                                          target_size=image_size,\n",
    "                                          class_mode=\"categorical\",\n",
    "                                          subset=\"training\",\n",
    "                                          \n",
    "                                         )\n",
    "valid_dataset = train.flow_from_directory(\"../database/sharpness1reduce/train\",\n",
    "                                          target_size=image_size,\n",
    "                                          class_mode=\"categorical\",                                          \n",
    "                                          subset=\"validation\")\n",
    "\n",
    "test_dataset = test.flow_from_directory(\"../database/sharpness1reduce/test\",\n",
    "                                        target_size=image_size,                                       \n",
    "                                        class_mode=\"categorical\")"
   ]
  },
  {
   "cell_type": "code",
   "execution_count": 25,
   "metadata": {},
   "outputs": [
    {
     "name": "stdout",
     "output_type": "stream",
     "text": [
      "Model: \"sequential_4\"\n",
      "_________________________________________________________________\n",
      "Layer (type)                 Output Shape              Param #   \n",
      "=================================================================\n",
      "conv2d_69 (Conv2D)           (None, 250, 250, 32)      4736      \n",
      "_________________________________________________________________\n",
      "conv2d_70 (Conv2D)           (None, 250, 250, 32)      25632     \n",
      "_________________________________________________________________\n",
      "conv2d_71 (Conv2D)           (None, 248, 248, 32)      9248      \n",
      "_________________________________________________________________\n",
      "max_pooling2d_23 (MaxPooling (None, 124, 124, 32)      0         \n",
      "_________________________________________________________________\n",
      "conv2d_72 (Conv2D)           (None, 124, 124, 64)      18496     \n",
      "_________________________________________________________________\n",
      "conv2d_73 (Conv2D)           (None, 124, 124, 64)      36928     \n",
      "_________________________________________________________________\n",
      "conv2d_74 (Conv2D)           (None, 122, 122, 64)      36928     \n",
      "_________________________________________________________________\n",
      "max_pooling2d_24 (MaxPooling (None, 61, 61, 64)        0         \n",
      "_________________________________________________________________\n",
      "conv2d_75 (Conv2D)           (None, 61, 61, 128)       73856     \n",
      "_________________________________________________________________\n",
      "conv2d_76 (Conv2D)           (None, 61, 61, 128)       147584    \n",
      "_________________________________________________________________\n",
      "conv2d_77 (Conv2D)           (None, 59, 59, 128)       147584    \n",
      "_________________________________________________________________\n",
      "max_pooling2d_25 (MaxPooling (None, 29, 29, 128)       0         \n",
      "_________________________________________________________________\n",
      "conv2d_78 (Conv2D)           (None, 29, 29, 256)       295168    \n",
      "_________________________________________________________________\n",
      "conv2d_79 (Conv2D)           (None, 29, 29, 256)       590080    \n",
      "_________________________________________________________________\n",
      "conv2d_80 (Conv2D)           (None, 27, 27, 256)       590080    \n",
      "_________________________________________________________________\n",
      "max_pooling2d_26 (MaxPooling (None, 13, 13, 256)       0         \n",
      "_________________________________________________________________\n",
      "conv2d_81 (Conv2D)           (None, 13, 13, 512)       1180160   \n",
      "_________________________________________________________________\n",
      "conv2d_82 (Conv2D)           (None, 13, 13, 512)       2359808   \n",
      "_________________________________________________________________\n",
      "conv2d_83 (Conv2D)           (None, 11, 11, 512)       2359808   \n",
      "_________________________________________________________________\n",
      "max_pooling2d_27 (MaxPooling (None, 5, 5, 512)         0         \n",
      "_________________________________________________________________\n",
      "flatten_4 (Flatten)          (None, 12800)             0         \n",
      "_________________________________________________________________\n",
      "dense_20 (Dense)             (None, 1024)              13108224  \n",
      "_________________________________________________________________\n",
      "re_lu_16 (ReLU)              (None, 1024)              0         \n",
      "_________________________________________________________________\n",
      "batch_normalization_16 (Batc (None, 1024)              4096      \n",
      "_________________________________________________________________\n",
      "dropout_16 (Dropout)         (None, 1024)              0         \n",
      "_________________________________________________________________\n",
      "dense_21 (Dense)             (None, 512)               524800    \n",
      "_________________________________________________________________\n",
      "re_lu_17 (ReLU)              (None, 512)               0         \n",
      "_________________________________________________________________\n",
      "batch_normalization_17 (Batc (None, 512)               2048      \n",
      "_________________________________________________________________\n",
      "dropout_17 (Dropout)         (None, 512)               0         \n",
      "_________________________________________________________________\n",
      "dense_22 (Dense)             (None, 256)               131328    \n",
      "_________________________________________________________________\n",
      "re_lu_18 (ReLU)              (None, 256)               0         \n",
      "_________________________________________________________________\n",
      "batch_normalization_18 (Batc (None, 256)               1024      \n",
      "_________________________________________________________________\n",
      "dropout_18 (Dropout)         (None, 256)               0         \n",
      "_________________________________________________________________\n",
      "dense_23 (Dense)             (None, 128)               32896     \n",
      "_________________________________________________________________\n",
      "re_lu_19 (ReLU)              (None, 128)               0         \n",
      "_________________________________________________________________\n",
      "batch_normalization_19 (Batc (None, 128)               512       \n",
      "_________________________________________________________________\n",
      "dropout_19 (Dropout)         (None, 128)               0         \n",
      "_________________________________________________________________\n",
      "dense_24 (Dense)             (None, 49)                6321      \n",
      "=================================================================\n",
      "Total params: 21,687,345\n",
      "Trainable params: 21,683,505\n",
      "Non-trainable params: 3,840\n",
      "_________________________________________________________________\n"
     ]
    }
   ],
   "source": [
    "model = tf.keras.models.Sequential()\n",
    "    \n",
    "model.add(tf.keras.Input(shape=(250, 250, 3)))\n",
    "model.add(tf.keras.layers.Conv2D(32,(7, 7),padding=\"same\",activation=\"relu\"))       \n",
    "model.add(tf.keras.layers.Conv2D(32,(5, 5),padding=\"same\",activation=\"relu\"))\n",
    "model.add(tf.keras.layers.Conv2D(32,(3, 3),activation=\"relu\"))\n",
    "model.add(tf.keras.layers.MaxPooling2D(pool_size=(2 ,2)))\n",
    "        \n",
    "model.add(tf.keras.layers.Conv2D(64,(3, 3), padding=\"same\",activation=\"relu\"))\n",
    "model.add(tf.keras.layers.Conv2D(64,(3, 3), padding=\"same\",activation=\"relu\"))\n",
    "model.add(tf.keras.layers.Conv2D(64,(3, 3),activation=\"relu\"))\n",
    "model.add(tf.keras.layers.MaxPooling2D(pool_size=(2 ,2)))\n",
    "        \n",
    "model.add(tf.keras.layers.Conv2D(128,(3, 3),padding=\"same\",activation=\"relu\"))\n",
    "model.add(tf.keras.layers.Conv2D(128,(3, 3),padding=\"same\",activation=\"relu\")) \n",
    "model.add(tf.keras.layers.Conv2D(128,(3, 3),activation=\"relu\"))\n",
    "model.add(tf.keras.layers.MaxPooling2D(pool_size=(2, 2)))\n",
    "\n",
    "model.add(tf.keras.layers.Conv2D(256,(3, 3), padding=\"same\",activation=\"relu\"))\n",
    "model.add(tf.keras.layers.Conv2D(256,(3, 3), padding=\"same\",activation=\"relu\"))\n",
    "model.add(tf.keras.layers.Conv2D(256,(3, 3),activation=\"relu\"))\n",
    "model.add(tf.keras.layers.MaxPooling2D(pool_size=(2 ,2)))\n",
    "\n",
    "model.add(tf.keras.layers.Conv2D(512,(3, 3), padding=\"same\",activation=\"relu\"))\n",
    "model.add(tf.keras.layers.Conv2D(512,(3, 3), padding=\"same\",activation=\"relu\"))\n",
    "model.add(tf.keras.layers.Conv2D(512,(3, 3),activation=\"relu\"))\n",
    "model.add(tf.keras.layers.MaxPooling2D(pool_size=(2 ,2)))\n",
    "\n",
    "model.add(tf.keras.layers.Flatten())\n",
    "\n",
    "model.add(tf.keras.layers.Dense(1024,kernel_regularizer=l2(0.005),bias_regularizer=l2(0.005)))\n",
    "model.add(tf.keras.layers.ReLU())\n",
    "model.add(tf.keras.layers.BatchNormalization()),\n",
    "model.add(tf.keras.layers.Dropout(0.5))\n",
    "\n",
    "model.add(tf.keras.layers.Dense(512,kernel_regularizer=l2(0.005),bias_regularizer=l2(0.005)))\n",
    "model.add(tf.keras.layers.ReLU())\n",
    "model.add(tf.keras.layers.BatchNormalization())\n",
    "model.add(tf.keras.layers.Dropout(0.5))\n",
    "        \n",
    "model.add(tf.keras.layers.Dense(256,kernel_regularizer=l2(0.005),bias_regularizer=l2(0.005)))\n",
    "model.add(tf.keras.layers.ReLU())\n",
    "model.add(tf.keras.layers.BatchNormalization())\n",
    "model.add(tf.keras.layers.Dropout(0.5))\n",
    "        \n",
    "model.add(tf.keras.layers.Dense(128))\n",
    "model.add(tf.keras.layers.ReLU())\n",
    "model.add(tf.keras.layers.BatchNormalization())\n",
    "model.add(tf.keras.layers.Dropout(0.5))\n",
    "model.add(tf.keras.layers.Dense(49, activation=\"softmax\"))\n",
    "model.summary()"
   ]
  },
  {
   "cell_type": "code",
   "execution_count": null,
   "metadata": {},
   "outputs": [
    {
     "name": "stdout",
     "output_type": "stream",
     "text": [
      "WARNING:tensorflow:sample_weight modes were coerced from\n",
      "  ...\n",
      "    to  \n",
      "  ['...']\n",
      "WARNING:tensorflow:sample_weight modes were coerced from\n",
      "  ...\n",
      "    to  \n",
      "  ['...']\n",
      "Train for 40 steps, validate for 25 steps\n",
      "Epoch 1/150\n",
      "40/40 [==============================] - 17s 421ms/step - loss: 15.3244 - accuracy: 0.0391 - val_loss: 15.4510 - val_accuracy: 0.0314\n",
      "Epoch 2/150\n",
      "40/40 [==============================] - 10s 255ms/step - loss: 12.2558 - accuracy: 0.0992 - val_loss: 10.8278 - val_accuracy: 0.1006\n",
      "Epoch 3/150\n",
      "40/40 [==============================] - 13s 324ms/step - loss: 10.4656 - accuracy: 0.1493 - val_loss: 12.9973 - val_accuracy: 0.0792\n",
      "Epoch 4/150\n",
      " 5/40 [==>...........................] - ETA: 7s - loss: 10.0162 - accuracy: 0.1312"
     ]
    }
   ],
   "source": [
    "\n",
    "model.compile(loss=\"categorical_crossentropy\", optimizer=\"adam\", metrics=[\"accuracy\"])\n",
    "model.fit(train_dataset, steps_per_epoch=40,validation_data=valid_dataset, epochs=150,shuffle=True)\n",
    "\n",
    "\n",
    "score = model.evaluate(test_dataset, verbose=0)\n",
    "print(\"Test loss:\", score[0])\n",
    "print(\"Test accuracy:\", score[1])\n",
    "print(\"echo this is the end ***\")\n"
   ]
  },
  {
   "cell_type": "code",
   "execution_count": null,
   "metadata": {},
   "outputs": [],
   "source": []
  },
  {
   "cell_type": "code",
   "execution_count": null,
   "metadata": {},
   "outputs": [],
   "source": []
  }
 ],
 "metadata": {
  "kernelspec": {
   "display_name": "Python 3",
   "language": "python",
   "name": "python3"
  },
  "language_info": {
   "codemirror_mode": {
    "name": "ipython",
    "version": 3
   },
   "file_extension": ".py",
   "mimetype": "text/x-python",
   "name": "python",
   "nbconvert_exporter": "python",
   "pygments_lexer": "ipython3",
   "version": "3.6.12"
  }
 },
 "nbformat": 4,
 "nbformat_minor": 4
}
